{
  "nbformat": 4,
  "nbformat_minor": 0,
  "metadata": {
    "colab": {
      "provenance": [],
      "gpuType": "T4",
      "authorship_tag": "ABX9TyPE0kFo1CqHiE+KCocb5+lN",
      "include_colab_link": true
    },
    "kernelspec": {
      "name": "python3",
      "display_name": "Python 3"
    },
    "language_info": {
      "name": "python"
    },
    "accelerator": "GPU"
  },
  "cells": [
    {
      "cell_type": "markdown",
      "metadata": {
        "id": "view-in-github",
        "colab_type": "text"
      },
      "source": [
        "<a href=\"https://colab.research.google.com/github/EduardoLawson1/Pytorch_Workflow/blob/main/01_pytorch_workflow.ipynb\" target=\"_parent\"><img src=\"https://colab.research.google.com/assets/colab-badge.svg\" alt=\"Open In Colab\"/></a>"
      ]
    },
    {
      "cell_type": "code",
      "execution_count": null,
      "metadata": {
        "colab": {
          "base_uri": "https://localhost:8080/",
          "height": 35
        },
        "id": "gVVJRK0c_BL0",
        "outputId": "5c011401-e59e-47eb-8bb5-899d6295b1f8"
      },
      "outputs": [
        {
          "output_type": "execute_result",
          "data": {
            "text/plain": [
              "'2.1.0+cu121'"
            ],
            "application/vnd.google.colaboratory.intrinsic+json": {
              "type": "string"
            }
          },
          "metadata": {},
          "execution_count": 1
        }
      ],
      "source": [
        "import torch\n",
        "from torch import nn # nn contains all of PyTorch's building blocks for neural networks\n",
        "import matplotlib.pyplot as plt\n",
        "\n",
        "# Check PyTorch version\n",
        "torch.__version__"
      ]
    },
    {
      "cell_type": "code",
      "source": [
        "weight = 0.7\n",
        "bias = 0.3\n",
        "\n",
        "#criando dados\n",
        "start = 0\n",
        "end = 1\n",
        "step = 0.02\n",
        "X = torch.arange(start, end, step).unsqueeze(dim=1)\n",
        "y = weight * X + bias\n",
        "\n",
        "X[:10], y[:10]"
      ],
      "metadata": {
        "colab": {
          "base_uri": "https://localhost:8080/"
        },
        "id": "B72Cu9NZAPaA",
        "outputId": "e2e80e0b-6a5f-4199-b4ac-1525bbb1882a"
      },
      "execution_count": null,
      "outputs": [
        {
          "output_type": "execute_result",
          "data": {
            "text/plain": [
              "(tensor([[0.0000],\n",
              "         [0.0200],\n",
              "         [0.0400],\n",
              "         [0.0600],\n",
              "         [0.0800],\n",
              "         [0.1000],\n",
              "         [0.1200],\n",
              "         [0.1400],\n",
              "         [0.1600],\n",
              "         [0.1800]]),\n",
              " tensor([[0.3000],\n",
              "         [0.3140],\n",
              "         [0.3280],\n",
              "         [0.3420],\n",
              "         [0.3560],\n",
              "         [0.3700],\n",
              "         [0.3840],\n",
              "         [0.3980],\n",
              "         [0.4120],\n",
              "         [0.4260]]))"
            ]
          },
          "metadata": {},
          "execution_count": 2
        }
      ]
    },
    {
      "cell_type": "code",
      "source": [
        "len(X), len(y)"
      ],
      "metadata": {
        "colab": {
          "base_uri": "https://localhost:8080/"
        },
        "id": "8ZYOanRLA3W8",
        "outputId": "ffd145ae-06df-49bc-b697-bbbef6d290b4"
      },
      "execution_count": null,
      "outputs": [
        {
          "output_type": "execute_result",
          "data": {
            "text/plain": [
              "(50, 50)"
            ]
          },
          "metadata": {},
          "execution_count": 3
        }
      ]
    },
    {
      "cell_type": "markdown",
      "source": [
        "\n",
        "###splitting data into training and testing"
      ],
      "metadata": {
        "id": "JGMyo5x7BXWb"
      }
    },
    {
      "cell_type": "code",
      "source": [
        "#crando treino e teste\n",
        "train_split = int(0.8 * len(X))\n",
        "train_split\n",
        "\n",
        "X_train, y_train = X[:train_split], y[:train_split]\n",
        "X_test, y_test = X[train_split:], y[train_split:]\n",
        "\n",
        "len(X_train), len(y_train), len(X_test), len(y_test)"
      ],
      "metadata": {
        "colab": {
          "base_uri": "https://localhost:8080/"
        },
        "id": "F3t4Zuh4Bc7G",
        "outputId": "66e8f919-f683-4e4c-c0a8-cad61abd8461"
      },
      "execution_count": null,
      "outputs": [
        {
          "output_type": "execute_result",
          "data": {
            "text/plain": [
              "(40, 40, 10, 10)"
            ]
          },
          "metadata": {},
          "execution_count": 4
        }
      ]
    },
    {
      "cell_type": "code",
      "source": [
        "def plot_predictions(train_data=X_train,\n",
        "                     train_labels=y_train,\n",
        "                     test_data=X_test,\n",
        "                     test_labels=y_test,\n",
        "                     predictions=None):\n",
        "  \"plota treino, teste e compara predições\"\n",
        "  plt.figure(figsize=(10,7))\n",
        "\n",
        "  \"plota treino em azul\"\n",
        "  plt.scatter(train_data, train_labels, c=\"b\", s=4, label=\"Training data\")\n",
        "\n",
        "  \"plota teste em verde\"\n",
        "  plt.scatter(test_data, test_labels, c=\"g\", s=4, label=\"Test data\" )\n",
        "\n",
        "  #AE THERE PREDICTIONS?\n",
        "  if predictions is not None:\n",
        "    #plota se existirem\n",
        "    plt.scatter(test_data, predictions, c=\"r\", s=4, label=\"Predictions\")\n",
        "\n",
        "    #legenda\n",
        "    plt.legend(prop={\"size\": 14});\n"
      ],
      "metadata": {
        "id": "0H45Hixfz6yX"
      },
      "execution_count": null,
      "outputs": []
    },
    {
      "cell_type": "code",
      "source": [
        "plot_predictions()"
      ],
      "metadata": {
        "colab": {
          "base_uri": "https://localhost:8080/",
          "height": 599
        },
        "id": "O7W5vr_i16er",
        "outputId": "72f23dba-3225-4570-bc5b-b98ec03e05ff"
      },
      "execution_count": null,
      "outputs": [
        {
          "output_type": "display_data",
          "data": {
            "text/plain": [
              "<Figure size 1000x700 with 1 Axes>"
            ],
            "image/png": "[encoded data removed]"
          },
          "metadata": {}
        }
      ]
    },
    {
      "cell_type": "markdown",
      "source": [
        "###criando modelo de pytorch\n",
        "\n",
        "#o que nosso modelo faz:\n",
        "começa com valores aleatórios\n",
        "passa pelos dados de entrada durante o treinamento e ajusta os valores aleatorios para que representem eses dados\n"
      ],
      "metadata": {
        "id": "UeJuJOKub92z"
      }
    },
    {
      "cell_type": "code",
      "source": [
        "#criando classe de modelo de regressão linear\n",
        "\n",
        "class LinearRegressionModel(nn.Module):     #quase tudo de pytorch vem disso\n",
        "  def __init__(self):\n",
        "    super().__init__()\n",
        "    self.weights = nn.Parameter(torch.randn(1,\n",
        "                                            requires_grad=True,\n",
        "                                            dtype=torch.float))\n",
        "\n",
        "    self.bias  =  nn.Parameter(torch.randn(1,\n",
        "                                            requires_grad=True,\n",
        "                                            dtype=torch.float))\n",
        "\n",
        "    #forward method para definir o funcionamento\n",
        "\n",
        "  def forward(self, x: torch.Tensor) -> torch.Tensor:    #x é o dado de entrada\n",
        "    return self.weights * x + self.bias #formula de regressao linear"
      ],
      "metadata": {
        "id": "ytiK9f8Xb1UN"
      },
      "execution_count": null,
      "outputs": []
    },
    {
      "cell_type": "markdown",
      "source": [
        "###checando o conteúdo do nosso modelo\n",
        "\n",
        "usando .parameters"
      ],
      "metadata": {
        "id": "5f5Nsk1ArA3b"
      }
    },
    {
      "cell_type": "code",
      "source": [
        "#criando random seed\n",
        "torch.manual_seed(42)\n",
        "\n",
        "#criando uma instancia do modelo\n",
        "model_0 = LinearRegressionModel()\n",
        "\n",
        "#checando ios parametroos\n",
        "list(model_0.parameters())"
      ],
      "metadata": {
        "colab": {
          "base_uri": "https://localhost:8080/"
        },
        "id": "LB23IYSsrHJU",
        "outputId": "32ad393d-0015-4f7f-cf02-39139f86662d"
      },
      "execution_count": null,
      "outputs": [
        {
          "output_type": "execute_result",
          "data": {
            "text/plain": [
              "[Parameter containing:\n",
              " tensor([0.3367], requires_grad=True),\n",
              " Parameter containing:\n",
              " tensor([0.1288], requires_grad=True)]"
            ]
          },
          "metadata": {},
          "execution_count": 8
        }
      ]
    },
    {
      "cell_type": "code",
      "source": [
        "#listando com nomes\n",
        "model_0.state_dict()"
      ],
      "metadata": {
        "colab": {
          "base_uri": "https://localhost:8080/"
        },
        "id": "CWsHeN6Nrf69",
        "outputId": "de97bbf4-f7fd-4a19-9a53-bb64f11f1f3f"
      },
      "execution_count": null,
      "outputs": [
        {
          "output_type": "execute_result",
          "data": {
            "text/plain": [
              "OrderedDict([('weights', tensor([0.3367])), ('bias', tensor([0.1288]))])"
            ]
          },
          "metadata": {},
          "execution_count": 9
        }
      ]
    },
    {
      "cell_type": "markdown",
      "source": [
        "#fazendo predições usando 'torch.inference_mode()'\n",
        "vamos ver seu poder de predição\n",
        "quando passamos dados pelo nosso modelo ele passará pela classe forward"
      ],
      "metadata": {
        "id": "FJz6woIWsLLg"
      }
    },
    {
      "cell_type": "code",
      "source": [
        "#fazendo predições\n",
        "with torch.inference_mode():\n",
        "  y_preds = model_0(X_test)\n",
        "\n",
        "y_preds"
      ],
      "metadata": {
        "colab": {
          "base_uri": "https://localhost:8080/"
        },
        "id": "xkk5REy6s1m7",
        "outputId": "4d7887eb-c1da-442d-c405-7729ab15db15"
      },
      "execution_count": null,
      "outputs": [
        {
          "output_type": "execute_result",
          "data": {
            "text/plain": [
              "tensor([[0.3982],\n",
              "        [0.4049],\n",
              "        [0.4116],\n",
              "        [0.4184],\n",
              "        [0.4251],\n",
              "        [0.4318],\n",
              "        [0.4386],\n",
              "        [0.4453],\n",
              "        [0.4520],\n",
              "        [0.4588]])"
            ]
          },
          "metadata": {},
          "execution_count": 10
        }
      ]
    },
    {
      "cell_type": "code",
      "source": [
        "y_test"
      ],
      "metadata": {
        "colab": {
          "base_uri": "https://localhost:8080/"
        },
        "id": "Vvr36dFQtxBS",
        "outputId": "4baa0075-cbc1-413f-8e20-5cb441a87dc4"
      },
      "execution_count": null,
      "outputs": [
        {
          "output_type": "execute_result",
          "data": {
            "text/plain": [
              "tensor([[0.8600],\n",
              "        [0.8740],\n",
              "        [0.8880],\n",
              "        [0.9020],\n",
              "        [0.9160],\n",
              "        [0.9300],\n",
              "        [0.9440],\n",
              "        [0.9580],\n",
              "        [0.9720],\n",
              "        [0.9860]])"
            ]
          },
          "metadata": {},
          "execution_count": 11
        }
      ]
    },
    {
      "cell_type": "code",
      "source": [
        "plot_predictions(predictions=y_preds)"
      ],
      "metadata": {
        "colab": {
          "base_uri": "https://localhost:8080/",
          "height": 599
        },
        "id": "7Lu1c2DZt0Of",
        "outputId": "bd380db5-39b4-439a-8ecf-1b3b6b58c4eb"
      },
      "execution_count": null,
      "outputs": [
        {
          "output_type": "display_data",
          "data": {
            "text/plain": [
              "<Figure size 1000x700 with 1 Axes>"
            ],
            "image/png": "[encoded data removed]"
          },
          "metadata": {}
        }
      ]
    },
    {
      "cell_type": "markdown",
      "source": [
        "###Treinar modelo\n",
        "ideia de treinar é ajustar os pesos de maneira eficiente\n",
        "\n",
        "para isso precisamos de:\n",
        "\n",
        "*loss function*\n",
        "\n",
        "*optimizer*"
      ],
      "metadata": {
        "id": "iu4M_Z1St9w8"
      }
    },
    {
      "cell_type": "code",
      "source": [
        "#escolhendo a loss\n",
        "loss_fn = nn.L1Loss()\n",
        "\n",
        "#escolhendo optimizer\n",
        "optimizer = torch.optim.SGD(params=model_0.parameters(),\n",
        "                            lr=0.01)\n"
      ],
      "metadata": {
        "id": "yofWW3cSvgC8"
      },
      "execution_count": null,
      "outputs": []
    },
    {
      "cell_type": "markdown",
      "source": [
        "###Construindo um loop de treinamento\n",
        "\n",
        "COISAS NECESSÁRIAS:\n",
        "\n",
        "0. Loop pelos dados\n",
        "1. passar usando forward(dados passando pela função forward)\n",
        "2. calcular loss\n",
        "3. optimizer zero grad\n",
        "4. loss backward -\n",
        "5. optimizer step\n"
      ],
      "metadata": {
        "id": "XPiTz1-cAMBf"
      }
    },
    {
      "cell_type": "code",
      "source": [
        "torch.manual_seed(42)\n",
        "#uma época é um loop pelos dados\n",
        "epochs = 100\n",
        "\n",
        "\n",
        "epoch_count = []\n",
        "loss_values = []\n",
        "test_loss_values= []\n",
        "\n",
        "##treino\n",
        "#0. loop pelos dados\n",
        "for epoch in range(epochs):\n",
        "  #setar o modelo para modo de treino\n",
        "  model_0.train() #modo treino seta todos os parametros que precisam de gradiente para requisitar esses gradientes\n",
        "\n",
        "  #1.parte de forward\n",
        "  y_pred = model_0(X_train)\n",
        "\n",
        "  #2. Calcular a loss\n",
        "  loss = loss_fn(y_pred, y_train)\n",
        "\n",
        "  #3. Optimizer zero grad\n",
        "  optimizer.zero_grad()\n",
        "\n",
        "  #fazer backpropagation na loss com respeito aos parâmetros do modelo\n",
        "  loss.backward()\n",
        "\n",
        "  #5. step no optimizer(fazer gradiente descer)\n",
        "  optimizer.step()\n",
        "\n",
        "  model_0.eval()#desliga algumas configurações para testar\n",
        "  with torch.inference_mode():\n",
        "    # 1. fazer forward pass\n",
        "    test_pred = model_0(X_test)\n",
        "\n",
        "    # 2. calclando a loss\n",
        "    test_loss = loss_fn(test_pred, y_test)\n",
        "  if epoch % 10 == 0:\n",
        "    epoch_count.append(epoch)\n",
        "    loss_values.append(loss)\n",
        "    test_loss_values.append(test_loss)\n",
        "    print(f\"Epoch: {epoch} | Loss: {loss} | Test loss: {test_loss}\")\n",
        "\n",
        "    #printando saída\n",
        "    print(model_0.state_dict())"
      ],
      "metadata": {
        "id": "JnExbStgD10m",
        "colab": {
          "base_uri": "https://localhost:8080/"
        },
        "outputId": "234449ce-0e6c-43b9-f7d3-652b4d81d401"
      },
      "execution_count": null,
      "outputs": [
        {
          "output_type": "stream",
          "name": "stdout",
          "text": [
            "Epoch: 0 | Loss: 0.31288138031959534 | Test loss: 0.48106518387794495\n",
            "OrderedDict([('weights', tensor([0.3406])), ('bias', tensor([0.1388]))])\n",
            "Epoch: 10 | Loss: 0.1976713240146637 | Test loss: 0.3463551998138428\n",
            "OrderedDict([('weights', tensor([0.3796])), ('bias', tensor([0.2388]))])\n",
            "Epoch: 20 | Loss: 0.08908725529909134 | Test loss: 0.21729660034179688\n",
            "OrderedDict([('weights', tensor([0.4184])), ('bias', tensor([0.3333]))])\n",
            "Epoch: 30 | Loss: 0.053148526698350906 | Test loss: 0.14464017748832703\n",
            "OrderedDict([('weights', tensor([0.4512])), ('bias', tensor([0.3768]))])\n",
            "Epoch: 40 | Loss: 0.04543796554207802 | Test loss: 0.11360953003168106\n",
            "OrderedDict([('weights', tensor([0.4748])), ('bias', tensor([0.3868]))])\n",
            "Epoch: 50 | Loss: 0.04167863354086876 | Test loss: 0.09919948130846024\n",
            "OrderedDict([('weights', tensor([0.4938])), ('bias', tensor([0.3843]))])\n",
            "Epoch: 60 | Loss: 0.03818932920694351 | Test loss: 0.08886633068323135\n",
            "OrderedDict([('weights', tensor([0.5116])), ('bias', tensor([0.3788]))])\n",
            "Epoch: 70 | Loss: 0.03476089984178543 | Test loss: 0.0805937647819519\n",
            "OrderedDict([('weights', tensor([0.5288])), ('bias', tensor([0.3718]))])\n",
            "Epoch: 80 | Loss: 0.03132382780313492 | Test loss: 0.07232122868299484\n",
            "OrderedDict([('weights', tensor([0.5459])), ('bias', tensor([0.3648]))])\n",
            "Epoch: 90 | Loss: 0.02788739837706089 | Test loss: 0.06473556160926819\n",
            "OrderedDict([('weights', tensor([0.5629])), ('bias', tensor([0.3573]))])\n"
          ]
        }
      ]
    },
    {
      "cell_type": "code",
      "source": [
        "import numpy as np\n",
        "plt.plot(epoch_count, np.array(torch.tensor(loss_values).numpy()), label=\"Train loss\")\n",
        "plt.plot(epoch_count, (torch.tensor(test_loss_values).numpy()), label=\"Test loss\")\n",
        "\n",
        "plt.title(\"training and test loss curves\")\n",
        "plt.ylabel(\"Loss\")\n",
        "plt.xlabel(\"Epochs\")\n",
        "plt.legend();"
      ],
      "metadata": {
        "colab": {
          "base_uri": "https://localhost:8080/",
          "height": 472
        },
        "id": "nDy6rC2Y435X",
        "outputId": "67195f67-7c19-4912-de2e-84c5442a4798"
      },
      "execution_count": null,
      "outputs": [
        {
          "output_type": "display_data",
          "data": {
            "text/plain": [
              "<Figure size 640x480 with 1 Axes>"
            ],
            "image/png": "[encoded data removed]"
          },
          "metadata": {}
        }
      ]
    },
    {
      "cell_type": "code",
      "source": [
        "with torch.inference_mode():\n",
        "  y_preds_new = model_0(X_test)"
      ],
      "metadata": {
        "id": "2X9eVvwhxCPq"
      },
      "execution_count": null,
      "outputs": []
    },
    {
      "cell_type": "code",
      "source": [
        "plot_predictions(predictions=y_preds_new)"
      ],
      "metadata": {
        "colab": {
          "base_uri": "https://localhost:8080/",
          "height": 599
        },
        "id": "gNIi4gLtxUrl",
        "outputId": "fb6c9ca9-5293-46eb-c16d-ab1e3478253a"
      },
      "execution_count": null,
      "outputs": [
        {
          "output_type": "display_data",
          "data": {
            "text/plain": [
              "<Figure size 1000x700 with 1 Axes>"
            ],
            "image/png": "[encoded data removed]"
          },
          "metadata": {}
        }
      ]
    },
    {
      "cell_type": "markdown",
      "source": [
        "###salvando modelo com pytorch\n",
        "#Três métodos\n",
        "\n",
        "1. 'torch.save()' - permite salvar objeto pytorch em formato pickle de python\n",
        "2. torch.load() - permite carregar um objeto pronto pytorch\n",
        "3. torch.nn.Module.load_state_dict() - permite salvar o estdo do modelo completo"
      ],
      "metadata": {
        "id": "-N_Q4-F25UvP"
      }
    },
    {
      "cell_type": "code",
      "source": [
        "model_0.state_dict()"
      ],
      "metadata": {
        "colab": {
          "base_uri": "https://localhost:8080/"
        },
        "id": "NJJxgCnq590s",
        "outputId": "9618c732-accd-4741-a4f4-6be971a9ee88"
      },
      "execution_count": null,
      "outputs": [
        {
          "output_type": "execute_result",
          "data": {
            "text/plain": [
              "OrderedDict([('weights', tensor([0.5784])), ('bias', tensor([0.3513]))])"
            ]
          },
          "metadata": {},
          "execution_count": 18
        }
      ]
    },
    {
      "cell_type": "code",
      "source": [
        "#salvando o modelo\n",
        "from pathlib import Path\n",
        "\n",
        "#1. criar diretório para modelos\n",
        "MODEL_PATH = Path(\"models\")\n",
        "MODEL_PATH.mkdir(parents=True, exist_ok=True)\n",
        "\n",
        "#2. criar caminho para salvar modelo\n",
        "MODEL_NAME =  \"01_pytorch_workflow_model_0.pth\"\n",
        "MODEL_SAVE_PATH = MODEL_PATH / MODEL_NAME\n",
        "\n",
        "#salvando o state_dict() do modelo\n",
        "print(f\"salvando modelo em: {MODEL_SAVE_PATH}\")\n",
        "torch.save(obj=model_0.state_dict(),\n",
        "           f=MODEL_SAVE_PATH)"
      ],
      "metadata": {
        "id": "XeppxgDG6Gnp",
        "colab": {
          "base_uri": "https://localhost:8080/"
        },
        "outputId": "9d169831-7e8e-4484-cdc3-087021f59507"
      },
      "execution_count": null,
      "outputs": [
        {
          "output_type": "stream",
          "name": "stdout",
          "text": [
            "salvando modelo em: models/01_pytorch_workflow_model_0.pth\n"
          ]
        }
      ]
    },
    {
      "cell_type": "code",
      "source": [
        "!ls -l models"
      ],
      "metadata": {
        "colab": {
          "base_uri": "https://localhost:8080/"
        },
        "id": "EmYasPLs9Aca",
        "outputId": "1b1cfcc3-c8ed-4e57-91b3-f939252785e7"
      },
      "execution_count": null,
      "outputs": [
        {
          "output_type": "stream",
          "name": "stdout",
          "text": [
            "total 4\n",
            "-rw-r--r-- 1 root root 1680 Jan 16 17:31 01_pytorch_workflow_model_0.pth\n"
          ]
        }
      ]
    },
    {
      "cell_type": "markdown",
      "source": [
        "###Carregando o modelo\n",
        "\n",
        "como salvamos state_dict() do modelo carregaremos só isso"
      ],
      "metadata": {
        "id": "-z6_9cjQ9EG0"
      }
    },
    {
      "cell_type": "code",
      "source": [
        "#Para carregar um state_dict temos que instanciar uma nova classe para o modelo\n",
        "loaded_model_0 = LinearRegressionModel()\n",
        "\n",
        "#Carregar o state_dict() do modelo_0(vai dar update na nova instancia com paremtros atuais)\n",
        "loaded_model_0.load_state_dict(torch.load(f=MODEL_SAVE_PATH))\n"
      ],
      "metadata": {
        "colab": {
          "base_uri": "https://localhost:8080/"
        },
        "id": "YQXABIdo-FOX",
        "outputId": "cfa49f09-d264-40ad-ec13-9537325e0ca5"
      },
      "execution_count": null,
      "outputs": [
        {
          "output_type": "execute_result",
          "data": {
            "text/plain": [
              "<All keys matched successfully>"
            ]
          },
          "metadata": {},
          "execution_count": 21
        }
      ]
    },
    {
      "cell_type": "code",
      "source": [
        "loaded_model_0.state_dict()"
      ],
      "metadata": {
        "colab": {
          "base_uri": "https://localhost:8080/"
        },
        "id": "3ni-QlU4-9s6",
        "outputId": "4fbdb0de-d829-4c67-d764-c51fb0fa3aa0"
      },
      "execution_count": null,
      "outputs": [
        {
          "output_type": "execute_result",
          "data": {
            "text/plain": [
              "OrderedDict([('weights', tensor([0.5784])), ('bias', tensor([0.3513]))])"
            ]
          },
          "metadata": {},
          "execution_count": 22
        }
      ]
    },
    {
      "cell_type": "code",
      "source": [
        "#faremos predições para ter certeza\n",
        "loaded_model_0.eval()\n",
        "\n",
        "with torch.inference_mode():\n",
        "  loaded_model_preds = loaded_model_0(X_test)\n",
        "\n",
        "loaded_model_preds"
      ],
      "metadata": {
        "colab": {
          "base_uri": "https://localhost:8080/"
        },
        "id": "um4rSkvF_Cxa",
        "outputId": "908f3211-9d8a-4e73-8d99-c24a6f9336cf"
      },
      "execution_count": null,
      "outputs": [
        {
          "output_type": "execute_result",
          "data": {
            "text/plain": [
              "tensor([[0.8141],\n",
              "        [0.8256],\n",
              "        [0.8372],\n",
              "        [0.8488],\n",
              "        [0.8603],\n",
              "        [0.8719],\n",
              "        [0.8835],\n",
              "        [0.8950],\n",
              "        [0.9066],\n",
              "        [0.9182]])"
            ]
          },
          "metadata": {},
          "execution_count": 23
        }
      ]
    },
    {
      "cell_type": "markdown",
      "source": [
        "###Colocando tudo junto\n",
        "Retomando os passos"
      ],
      "metadata": {
        "id": "dVj2Pz9E_RSY"
      }
    },
    {
      "cell_type": "code",
      "source": [
        "#imoport Pytorch e matplotlib\n",
        "import torch\n",
        "from torch import nn\n",
        "import matplotlib.pyplot as plt"
      ],
      "metadata": {
        "id": "6M33hxkKAPpR"
      },
      "execution_count": null,
      "outputs": []
    },
    {
      "cell_type": "markdown",
      "source": [
        "#cirar como padrão device_agnostic code"
      ],
      "metadata": {
        "id": "C9-lpkJ7BBCN"
      }
    },
    {
      "cell_type": "code",
      "source": [
        "#setup\n",
        "device = \"cuda\" if torch.cuda.is_available() else \"cpu\"\n",
        "print(f\"Using device: {device}\")\n"
      ],
      "metadata": {
        "colab": {
          "base_uri": "https://localhost:8080/"
        },
        "id": "HTyIa7NSBFhC",
        "outputId": "a279ea95-6350-4d7e-f806-028f8513c468"
      },
      "execution_count": null,
      "outputs": [
        {
          "output_type": "stream",
          "name": "stdout",
          "text": [
            "Using device: cuda\n"
          ]
        }
      ]
    },
    {
      "cell_type": "code",
      "source": [
        "!nvidia-smi"
      ],
      "metadata": {
        "colab": {
          "base_uri": "https://localhost:8080/"
        },
        "id": "mCJerFNxBz19",
        "outputId": "85a2db9b-e644-4adb-a404-4c599183b380"
      },
      "execution_count": null,
      "outputs": [
        {
          "output_type": "stream",
          "name": "stdout",
          "text": [
            "Tue Jan 16 17:31:28 2024       \n",
            "+---------------------------------------------------------------------------------------+\n",
            "| NVIDIA-SMI 535.104.05             Driver Version: 535.104.05   CUDA Version: 12.2     |\n",
            "|-----------------------------------------+----------------------+----------------------+\n",
            "| GPU  Name                 Persistence-M | Bus-Id        Disp.A | Volatile Uncorr. ECC |\n",
            "| Fan  Temp   Perf          Pwr:Usage/Cap |         Memory-Usage | GPU-Util  Compute M. |\n",
            "|                                         |                      |               MIG M. |\n",
            "|=========================================+======================+======================|\n",
            "|   0  Tesla T4                       Off | 00000000:00:04.0 Off |                    0 |\n",
            "| N/A   65C    P8              10W /  70W |      3MiB / 15360MiB |      0%      Default |\n",
            "|                                         |                      |                  N/A |\n",
            "+-----------------------------------------+----------------------+----------------------+\n",
            "                                                                                         \n",
            "+---------------------------------------------------------------------------------------+\n",
            "| Processes:                                                                            |\n",
            "|  GPU   GI   CI        PID   Type   Process name                            GPU Memory |\n",
            "|        ID   ID                                                             Usage      |\n",
            "|=======================================================================================|\n",
            "|  No running processes found                                                           |\n",
            "+---------------------------------------------------------------------------------------+\n"
          ]
        }
      ]
    },
    {
      "cell_type": "markdown",
      "source": [
        "#6.1 Data"
      ],
      "metadata": {
        "id": "hnpZXS8-A01T"
      }
    },
    {
      "cell_type": "code",
      "source": [
        "#Criar uns dados usando fórmula de regressão linear\n",
        "weight = 0.7\n",
        "bias = 0.3\n",
        "\n",
        "#criar valores de range\n",
        "start = 0\n",
        "end = 1\n",
        "step = 0.02\n",
        "\n",
        "#criando features e labels\n",
        "X =  torch.arange(start, end, step).unsqueeze(dim=1)\n",
        "y = weight * X + bias\n",
        "X[:10], y[:10]\n"
      ],
      "metadata": {
        "id": "rgandwUyA4ii",
        "colab": {
          "base_uri": "https://localhost:8080/"
        },
        "outputId": "e427d18d-c369-4506-c4bd-e6d6d810f49a"
      },
      "execution_count": null,
      "outputs": [
        {
          "output_type": "execute_result",
          "data": {
            "text/plain": [
              "(tensor([[0.0000],\n",
              "         [0.0200],\n",
              "         [0.0400],\n",
              "         [0.0600],\n",
              "         [0.0800],\n",
              "         [0.1000],\n",
              "         [0.1200],\n",
              "         [0.1400],\n",
              "         [0.1600],\n",
              "         [0.1800]]),\n",
              " tensor([[0.3000],\n",
              "         [0.3140],\n",
              "         [0.3280],\n",
              "         [0.3420],\n",
              "         [0.3560],\n",
              "         [0.3700],\n",
              "         [0.3840],\n",
              "         [0.3980],\n",
              "         [0.4120],\n",
              "         [0.4260]]))"
            ]
          },
          "metadata": {},
          "execution_count": 28
        }
      ]
    },
    {
      "cell_type": "code",
      "source": [
        "#dividindo os dados\n",
        "train_split = int(0.8 * len(X))\n",
        "X_train, y_train = X[:train_split], y[:train_split]\n",
        "X_test, y_test = X[train_split:], y[train_split:]\n",
        "len(X_train), len(y_train), len(X_test), len(y_test)"
      ],
      "metadata": {
        "colab": {
          "base_uri": "https://localhost:8080/"
        },
        "id": "6WKAlr-qWI3L",
        "outputId": "8ae47e91-2141-4852-bb50-9fca9ecfd9f9"
      },
      "execution_count": null,
      "outputs": [
        {
          "output_type": "execute_result",
          "data": {
            "text/plain": [
              "(40, 40, 10, 10)"
            ]
          },
          "metadata": {},
          "execution_count": 29
        }
      ]
    },
    {
      "cell_type": "code",
      "source": [
        "#plotr os dados\n",
        "#se não tiver a funçao plot_predictions salva vai dar erro\n",
        "plot_predictions(X_train, y_train, X_test, y_test)"
      ],
      "metadata": {
        "colab": {
          "base_uri": "https://localhost:8080/",
          "height": 599
        },
        "id": "SiGx0sNgWv3e",
        "outputId": "8bf14345-fc54-4f34-d37c-c34333bc7575"
      },
      "execution_count": null,
      "outputs": [
        {
          "output_type": "display_data",
          "data": {
            "text/plain": [
              "<Figure size 1000x700 with 1 Axes>"
            ],
            "image/png": "[encoded data removed]"
          },
          "metadata": {}
        }
      ]
    },
    {
      "cell_type": "code",
      "source": [
        "#recriando o mdeolo usando subclasse nn.Module\n",
        "class LinearRegressionModelV2(nn.Module):\n",
        "  def __init__(self):\n",
        "    super().__init__()\n",
        "    #usar nn.Linear\n",
        "    self.linear_layer = nn.Linear(in_features=1,\n",
        "                                  out_features=1)\n",
        "\n",
        "  def forward(self, x: torch.Tensor) -> torch.Tensor:\n",
        "      return self.linear_layer(x)\n",
        "\n",
        "#setar a manual_seed\n",
        "torch.manual_seed(42)\n",
        "model_1 = LinearRegressionModelV2()\n",
        "model_1.state_dict()\n"
      ],
      "metadata": {
        "colab": {
          "base_uri": "https://localhost:8080/"
        },
        "id": "A6fnI7rHW_Sx",
        "outputId": "31c54f60-69d4-424d-df5b-ff0c9993bac9"
      },
      "execution_count": null,
      "outputs": [
        {
          "output_type": "execute_result",
          "data": {
            "text/plain": [
              "OrderedDict([('linear_layer.weight', tensor([[0.7645]])),\n",
              "             ('linear_layer.bias', tensor([0.8300]))])"
            ]
          },
          "metadata": {},
          "execution_count": 46
        }
      ]
    },
    {
      "cell_type": "markdown",
      "source": [
        "###Treinando o segundo modelo\n",
        "pra treinar precisamosÇ\n",
        "*funcao de loss\n",
        "*optimizer\n",
        "*loop de treino\n",
        "*loop de teste"
      ],
      "metadata": {
        "id": "qApC9d1LbeH-"
      }
    },
    {
      "cell_type": "code",
      "source": [
        "#setar o modelo para usar o cuda\n",
        "model_1.to(device)\n",
        "next(model_1.parameters()).device"
      ],
      "metadata": {
        "colab": {
          "base_uri": "https://localhost:8080/"
        },
        "id": "08MU9yI3cJdD",
        "outputId": "63eeb728-5853-4226-a993-186a944c5680"
      },
      "execution_count": null,
      "outputs": [
        {
          "output_type": "execute_result",
          "data": {
            "text/plain": [
              "device(type='cuda', index=0)"
            ]
          },
          "metadata": {},
          "execution_count": 47
        }
      ]
    },
    {
      "cell_type": "code",
      "source": [
        "#escolhendo a loss\n",
        "loss_fn = nn.L1Loss()\n",
        "\n",
        "#setar optimizer\n",
        "optimizer = torch.optim.SGD(params=model_1.parameters(),\n",
        "                            lr=0.01)"
      ],
      "metadata": {
        "id": "RljoxdnPcWO_"
      },
      "execution_count": null,
      "outputs": []
    },
    {
      "cell_type": "code",
      "source": [
        "#fazendo loop de trreino\n",
        "torch.manual_seed(42)\n",
        "\n",
        "epochs = 200\n",
        "#colocar dados para cuda também\n",
        "X_train = X_train.to(device)\n",
        "X_test = X_test.to(device)\n",
        "y_train = y_train.to(device)\n",
        "y_test = y_test.to(device)\n",
        "\n",
        "\n",
        "for epoch in range(epochs):\n",
        "  model_1.train()\n",
        "\n",
        "  #1. forward pass\n",
        "  y_pred = model_1(X_train)\n",
        "\n",
        "  #2. calcular loss\n",
        "  loss = loss_fn(y_pred, y_train)\n",
        "\n",
        "  #3. optimizer zerar grad\n",
        "  optimizer.zero_grad()\n",
        "\n",
        "  #4. fazer bckpropagation\n",
        "  loss.backward()\n",
        "\n",
        "  #5. optimizer step\n",
        "  optimizer.step()\n",
        "\n",
        "#### testando\n",
        "  model_1.eval()\n",
        "  with torch.inference_mode():\n",
        "    test_pred = model_1(X_test)\n",
        "\n",
        "    test_loss = loss_fn(test_pred, y_test)\n",
        "\n",
        "  #printar o que está acontecendo\n",
        "\n",
        "  if epoch % 10 ==0:\n",
        "    print(f\" Epoch: {epoch} | Loss: {loss} | Test Loss: {test_loss}\")"
      ],
      "metadata": {
        "colab": {
          "base_uri": "https://localhost:8080/"
        },
        "id": "mNdkvYXVdKvC",
        "outputId": "4f3449cf-bd42-4ec0-e9be-39de2b6e010a"
      },
      "execution_count": null,
      "outputs": [
        {
          "output_type": "stream",
          "name": "stdout",
          "text": [
            " Epoch: 0 | Loss: 0.5551779866218567 | Test Loss: 0.5739762187004089\n",
            " Epoch: 10 | Loss: 0.439968079328537 | Test Loss: 0.4392664134502411\n",
            " Epoch: 20 | Loss: 0.3247582018375397 | Test Loss: 0.30455657839775085\n",
            " Epoch: 30 | Loss: 0.20954833924770355 | Test Loss: 0.16984669864177704\n",
            " Epoch: 40 | Loss: 0.09433845430612564 | Test Loss: 0.03513690456748009\n",
            " Epoch: 50 | Loss: 0.023886388167738914 | Test Loss: 0.04784907028079033\n",
            " Epoch: 60 | Loss: 0.019956795498728752 | Test Loss: 0.045803118497133255\n",
            " Epoch: 70 | Loss: 0.016517987474799156 | Test Loss: 0.037530567497015\n",
            " Epoch: 80 | Loss: 0.013089174404740334 | Test Loss: 0.02994490973651409\n",
            " Epoch: 90 | Loss: 0.009653178043663502 | Test Loss: 0.02167237363755703\n",
            " Epoch: 100 | Loss: 0.006215683650225401 | Test Loss: 0.014086711220443249\n",
            " Epoch: 110 | Loss: 0.00278724217787385 | Test Loss: 0.005814164876937866\n",
            " Epoch: 120 | Loss: 0.0012645035749301314 | Test Loss: 0.013801801018416882\n",
            " Epoch: 130 | Loss: 0.0012645035749301314 | Test Loss: 0.013801801018416882\n",
            " Epoch: 140 | Loss: 0.0012645035749301314 | Test Loss: 0.013801801018416882\n",
            " Epoch: 150 | Loss: 0.0012645035749301314 | Test Loss: 0.013801801018416882\n",
            " Epoch: 160 | Loss: 0.0012645035749301314 | Test Loss: 0.013801801018416882\n",
            " Epoch: 170 | Loss: 0.0012645035749301314 | Test Loss: 0.013801801018416882\n",
            " Epoch: 180 | Loss: 0.0012645035749301314 | Test Loss: 0.013801801018416882\n",
            " Epoch: 190 | Loss: 0.0012645035749301314 | Test Loss: 0.013801801018416882\n"
          ]
        }
      ]
    },
    {
      "cell_type": "code",
      "source": [
        "model_1.state_dict()"
      ],
      "metadata": {
        "colab": {
          "base_uri": "https://localhost:8080/"
        },
        "id": "H26sap_EeHnR",
        "outputId": "501323be-d1cb-4ac7-8500-010513668566"
      },
      "execution_count": null,
      "outputs": [
        {
          "output_type": "execute_result",
          "data": {
            "text/plain": [
              "OrderedDict([('linear_layer.weight', tensor([[0.6968]], device='cuda:0')),\n",
              "             ('linear_layer.bias', tensor([0.3025], device='cuda:0'))])"
            ]
          },
          "metadata": {},
          "execution_count": 51
        }
      ]
    },
    {
      "cell_type": "code",
      "source": [
        "#tornal modelo para avaliar\n",
        "model_1.eval\n",
        "\n",
        "#fazer predições\n",
        "with torch.inference_mode():\n",
        "  y_preds = model_1(X_test)\n",
        "\n",
        "y_preds"
      ],
      "metadata": {
        "colab": {
          "base_uri": "https://localhost:8080/"
        },
        "id": "to8g69DTgmOt",
        "outputId": "83e1b4d7-ac2e-4382-e1a4-2d5ce47b5790"
      },
      "execution_count": null,
      "outputs": [
        {
          "output_type": "execute_result",
          "data": {
            "text/plain": [
              "tensor([[0.8600],\n",
              "        [0.8739],\n",
              "        [0.8878],\n",
              "        [0.9018],\n",
              "        [0.9157],\n",
              "        [0.9296],\n",
              "        [0.9436],\n",
              "        [0.9575],\n",
              "        [0.9714],\n",
              "        [0.9854]], device='cuda:0')"
            ]
          },
          "metadata": {},
          "execution_count": 55
        }
      ]
    },
    {
      "cell_type": "code",
      "source": [
        "#plotar predições\n",
        "plot_predictions(predictions=y_preds.cpu())"
      ],
      "metadata": {
        "colab": {
          "base_uri": "https://localhost:8080/",
          "height": 599
        },
        "id": "4i8W_m8CjFxu",
        "outputId": "9bd642a5-758d-4102-94d1-3b0238a40fe0"
      },
      "execution_count": null,
      "outputs": [
        {
          "output_type": "display_data",
          "data": {
            "text/plain": [
              "<Figure size 1000x700 with 1 Axes>"
            ],
            "image/png": "[encoded data removed]"
          },
          "metadata": {}
        }
      ]
    },
    {
      "cell_type": "markdown",
      "source": [
        "###Salvando e carregando o modelo"
      ],
      "metadata": {
        "id": "IucImy3sj2DE"
      }
    },
    {
      "cell_type": "code",
      "source": [
        "#1. criando caminho para salvar\n",
        "MODEL_NAME = \"01_pytorch_workflow_model_1.pth\"\n",
        "MODEL_SAVE_PATH = MODEL_PATH / MODEL_NAME\n",
        "\n",
        "#printando para verificar\n",
        "print(f\"salvando em:{MODEL_SAVE_PATH}\")\n",
        "#slvando com torch.save\n",
        "torch.save(obj=model_1.state_dict(),\n",
        "           f=MODEL_SAVE_PATH)"
      ],
      "metadata": {
        "colab": {
          "base_uri": "https://localhost:8080/"
        },
        "id": "4zxcRjdokgKw",
        "outputId": "4090b930-1bb6-4194-c196-caf93e19ee5a"
      },
      "execution_count": null,
      "outputs": [
        {
          "output_type": "stream",
          "name": "stdout",
          "text": [
            "salvando em:models/01_pytorch_workflow_model_1.pth\n"
          ]
        }
      ]
    },
    {
      "cell_type": "code",
      "source": [
        "#PARA CARREGAR O MODELO usamos:\n",
        "loaded_model_1 = LinearRegressionModelV2()\n",
        "\n",
        "#carregamos o estdo do modelo\n",
        "loaded_model_1.load_state_dict(torch.load(f=MODEL_SAVE_PATH))\n",
        "\n",
        "#coloca o modelo para o device\n",
        "loaded_model_1.to(device)"
      ],
      "metadata": {
        "colab": {
          "base_uri": "https://localhost:8080/"
        },
        "id": "Vqb9MxlelDzT",
        "outputId": "4d0bc598-61f9-40ee-f730-0c3fe7e75318"
      },
      "execution_count": null,
      "outputs": [
        {
          "output_type": "execute_result",
          "data": {
            "text/plain": [
              "LinearRegressionModelV2(\n",
              "  (linear_layer): Linear(in_features=1, out_features=1, bias=True)\n",
              ")"
            ]
          },
          "metadata": {},
          "execution_count": 67
        }
      ]
    },
    {
      "cell_type": "code",
      "source": [
        "loaded_model_1.state_dict()"
      ],
      "metadata": {
        "colab": {
          "base_uri": "https://localhost:8080/"
        },
        "id": "owUh9Gxgll3n",
        "outputId": "09e79714-861e-48cb-e847-0a91c5cce58f"
      },
      "execution_count": null,
      "outputs": [
        {
          "output_type": "execute_result",
          "data": {
            "text/plain": [
              "OrderedDict([('linear_layer.weight', tensor([[0.6968]], device='cuda:0')),\n",
              "             ('linear_layer.bias', tensor([0.3025], device='cuda:0'))])"
            ]
          },
          "metadata": {},
          "execution_count": 68
        }
      ]
    },
    {
      "cell_type": "code",
      "source": [
        "#faremos predições para ter certeza\n",
        "loaded_model_1.eval()\n",
        "\n",
        "with torch.inference_mode():\n",
        "  loaded_model_preds = loaded_model_1(X_test)\n",
        "\n",
        "y_preds == loaded_model_preds"
      ],
      "metadata": {
        "colab": {
          "base_uri": "https://localhost:8080/"
        },
        "id": "4v0cdMRvlDIl",
        "outputId": "06c577e0-d438-440b-c21f-c8410b7d1de1"
      },
      "execution_count": null,
      "outputs": [
        {
          "output_type": "execute_result",
          "data": {
            "text/plain": [
              "tensor([[True],\n",
              "        [True],\n",
              "        [True],\n",
              "        [True],\n",
              "        [True],\n",
              "        [True],\n",
              "        [True],\n",
              "        [True],\n",
              "        [True],\n",
              "        [True]], device='cuda:0')"
            ]
          },
          "metadata": {},
          "execution_count": 72
        }
      ]
    },
    {
      "cell_type": "code",
      "source": [],
      "metadata": {
        "id": "5S4k3GZxEfQq"
      },
      "execution_count": null,
      "outputs": []
    }
  ]
}